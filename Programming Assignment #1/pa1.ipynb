{
 "cells": [
  {
   "cell_type": "markdown",
   "metadata": {},
   "source": [
    "# CECS 229: Programming Assignment #1\n",
    "\n",
    "#### Due Date: \n",
    "\n",
    "Sunday, 2/5 @ 11:59 PM\n",
    "\n",
    "#### Submission Instructions:\n",
    "\n",
    "To receive credit for this assignment, you must submit **to CodePost** this file converted to a Python script named `pa1.py`\n",
    "\n",
    "#### Objectives:\n",
    "\n",
    "1. Compute the quotient and remainder of two numbers.\n",
    "2. Apply numerical algorithms for computing the sum of two numbers in binary representation.\n",
    "3. Apply numerical algorithms for computing the modular exponentiation of a positive integer.\n",
    "\n"
   ]
  },
  {
   "cell_type": "markdown",
   "metadata": {},
   "source": [
    "--------------------------------\n",
    "\n",
    "#### Problem 1:\n",
    "\n",
    "Program a function `div_alg(a, d)` that computes the quotient and remainder of $$a \\div d$$ according to the Division Algorithm (THM 4.1.2).   \n",
    "\n",
    "The function should satisfy the following:\n",
    "\n",
    "1. INPUT: \n",
    "    * `a` - an integer representing the dividend\n",
    "    * `d` - positive integer representing the divisor\n",
    "\n",
    "    \n",
    "2. OUTPUT:\n",
    "    * a dictionary of the form `{'quotient' : q, 'remainder' : r}` where `q` and `r` are the quotient and remainder values, respectively.  The remainder should satisfy, $0 \\leq r < d$.\n",
    "\n",
    " \n",
    "EXAMPLE: \n",
    "\n",
    "`>> div_alg( 101 , 11 )`\n",
    "\n",
    "`{'quotient' : 9, 'remainder' : 2}`"
   ]
  },
  {
   "cell_type": "code",
   "execution_count": 4,
   "metadata": {},
   "outputs": [],
   "source": [
    "'''Problem 1 Solution:'''\n",
    "# Writing a function to compute the quotient and remainder according to the Division Algorithm\n",
    "def div_alg(a, d: int): # a -> dividend; d(a positive integer) -> divisor\n",
    "    q = 0  # q -> quotient\n",
    "    r = abs(a) # r -> remainder in absolute value\n",
    "    # Running a while loop to compute the quotient and remainder\n",
    "    while r >= d:\n",
    "        r -= d\n",
    "        q += 1\n",
    "    if a < 0 and r > 0:\n",
    "        r = d - r\n",
    "        q = -(q + 1)\n",
    "    return {'quotient': q, 'remainder': r} # {q = a div d is the quotient, r = a mod d is the remainder}"
   ]
  },
  {
   "cell_type": "code",
   "execution_count": null,
   "metadata": {},
   "outputs": [],
   "source": [
    "print(div_alg(10, 3))\n",
    "print(div_alg(101, 11))"
   ]
  },
  {
   "cell_type": "markdown",
   "metadata": {},
   "source": [
    "--------------------------------\n",
    "\n",
    "#### Problem 2:\n",
    "\n",
    "Program a function `binary_add(a, b)` that computes the sum of the binary numbers  $$a = (a_{i-1}, a_{i-2}, \\dots, a_0)_2$$ and $$b = (b_{j-1}, b_{j-2}, \\dots, b_0)_2$$ using the algorithm discussed in lecture.  No credit will be given to functions that employ any other implementation.  The function can not use built-in functions that already perform some kind of binary representation or addition of binary numbers.  For example, the function implementation can **not** use the functions `bin()` or `int(a, base=2)`.\n",
    "\n",
    "The function should satisfy the following:\n",
    "\n",
    "1. INPUT: \n",
    "    * `a` - a string of the 0's and 1's that make up the first binary number.  The string *may* contain spaces.\n",
    "    * `b` - a string of the 0's and 1's that make up the first binary number.  The string *may* contain spaces.\n",
    "\n",
    "    \n",
    "2. OUTPUT:\n",
    "    * the string of 0's and 1's that is the result of computing $a + b$.  The string must be separated by spaces into blocks of 4 characters or less, beginning at the end of the string.\n",
    "\n",
    " \n",
    "EXAMPLE: \n",
    "\n",
    "`>> binary_add( '10 1011' , '11011')`\n",
    "\n",
    "`'100 0110'`\n",
    "\n",
    "\n"
   ]
  },
  {
   "cell_type": "code",
   "execution_count": 3,
   "metadata": {},
   "outputs": [],
   "source": [
    "'''Problem 2 Solution:'''\n",
    "# Writing a function to convert a string binary to numerical binary\n",
    "def stringBin_to_numBin(bin):\n",
    "    decimal = 0\n",
    "    bin = bin[::-1] # Reverses the binary number string\n",
    "    for i in range(len(bin)): # Iterates through the binary number string\n",
    "        if bin[i] == '1': # Checks if the current digit is 1\n",
    "            decimal += 2 ** i  # Computes the decimal value of the binary number\n",
    "    return decimal # Returns the decimal value of the binary number\n",
    "\n",
    "# Writing a function to compute the sum of two binary numbers with base-b expansions\n",
    "def base_expansion(n, b): # n -> integer; b -> base(positive integers with b > 1)\n",
    "    q = n # q -> dividend that is updated in each iteration\n",
    "    k = 0 # k -> index of the current coefficient in the base expansion\n",
    "    exp_result = [] # holds the list of coefficients\n",
    "    while q != 0:\n",
    "        a = q % b # a -> coefficient of the base b\n",
    "        q = q // b # q -> dividend that is updated in each iteration\n",
    "        exp_result.append(a) # adds coefficient to the list every iteration\n",
    "        k += 1 # Updates the index of the coefficient\n",
    "    return exp_result[::-1] # returns the list of coefficients in reverse order\n",
    "\n",
    "# Writing a function to compute the sum of two binary numbers with base-2 expansions\n",
    "def binary_add(a, b): # a and b are binary numbers\n",
    "    # Removes the spaces in the binary numbers\n",
    "    a = a.replace(' ', '')\n",
    "    b = b.replace(' ', '')\n",
    "    # Converts the binary numbers to integers\n",
    "    a = stringBin_to_numBin(a)\n",
    "    b = stringBin_to_numBin(b)\n",
    "    bin_num1 = base_expansion(a, 2) # bin_num1 -> binary number a\n",
    "    bin_num2 = base_expansion(b, 2) # bin_num2 -> binary number b\n",
    "    carry = 0 # c -> carry bit\n",
    "    sum = '' # sum -> sum of the two binary numbers\n",
    "\n",
    "    # Checks if the length of the binary numbers are equal\n",
    "    # Adds 0s to the beginning of the shorter binary number\n",
    "    if len(bin_num1) < len(bin_num2):\n",
    "        bin_num1 = [0] * (len(bin_num2) - len(bin_num1)) + bin_num1 \n",
    "    else:\n",
    "        bin_num2 = [0] * (len(bin_num1) - len(bin_num2)) + bin_num2\n",
    "\n",
    "    for i in range(0, max(len(bin_num1), len(bin_num2))):\n",
    "        x = (bin_num1[len(bin_num1) - 1 - i] + bin_num2[len(bin_num2) - 1 - i] + carry) % 2 # Computes the sum of the two binary numbers\n",
    "        y = (bin_num1[len(bin_num1) - 1 - i] + bin_num2[len(bin_num2) - 1 - i] + carry) // 2 # Computes the carry bit using quotient\n",
    "        sum = str(x) + sum # Adds/Updates the sum to the sum string\n",
    "        carry = y # Updates the carry bit\n",
    "    if carry == 1:\n",
    "        sum = str(carry) + sum # Adds the carry bit to the sum string if the carry bit is 1\n",
    "\n",
    "    final_sum = '' # Holds the sum with spaces every 4 digits\n",
    "    count = 0 # Holds the count of the digits\n",
    "    for i in range(len(sum) -1, -1, -1): # Iterates through the sum in reverse order\n",
    "        count += 1 # Increments the count \n",
    "        final_sum = str(sum[i]) + final_sum # Adds the current digit to the final sum\n",
    "        if count % 4 == 0 and i != 0: # Check for the 4th digit \n",
    "            final_sum = ' ' + final_sum # Adds a space to the sum every 4 digits\n",
    "        else: \n",
    "            final_sum = final_sum # Does not add a space to the sum\n",
    "\n",
    "    return final_sum"
   ]
  },
  {
   "cell_type": "code",
   "execution_count": 6,
   "metadata": {},
   "outputs": [
    {
     "name": "stdout",
     "output_type": "stream",
     "text": [
      "1000\n",
      "111\n",
      "111 0111\n",
      "1 1011 0111 1000\n"
     ]
    }
   ],
   "source": [
    "print(binary_add('100','100'))\n",
    "print(binary_add('11','100'))\n",
    "print(binary_add('10111','1100000'))\n",
    "print(binary_add('1101 1011 1100', '1101 1011 1100'))"
   ]
  },
  {
   "cell_type": "markdown",
   "metadata": {},
   "source": [
    "--------------------------------\n",
    "\n",
    "#### Problem 3:\n",
    "\n",
    "Program a function `mod_exp(b, n, m)` that computes $$b^n \\mod m$$ using the algorithm discussed in lecture.  No credit will be given to functions that employ any other implementation.  For example, if the function implementation simply consists of `b ** n % m`, no credit will be given.  \n",
    "\n",
    "The function should satisfy the following:\n",
    "\n",
    "1. INPUT: \n",
    "    * `b` - positive integer representing the base\n",
    "    * `n` - positive integer representing the exponent\n",
    "    * `m` - positive integer representing the modulo\n",
    "\n",
    "    \n",
    "2. OUTPUT:\n",
    "    * the computation of $b^n \\mod m$ if b, n, m are positive integers, 0 otherwise.\n",
    "\n",
    " \n",
    "EXAMPLE: \n",
    "\n",
    "`>> mod_exp( 3 , 644, 645 )`\n",
    "\n",
    "`36`\n",
    "\n",
    "\n"
   ]
  },
  {
   "cell_type": "code",
   "execution_count": 8,
   "metadata": {},
   "outputs": [],
   "source": [
    "'''Problem 3 Solution:'''\n",
    "# Writing a function that computes the modular exponentiation of a number\n",
    "def mod_exp(b, n, m): # b -> base; n -> exponent; m -> modulus (all positive integers)\n",
    "    result = 1 # result -> the final result of the modular exponentiation\n",
    "    if b < 0 or n < 0 or m < 0: # Checks if the base, exponent, and modulus are positive integers\n",
    "        result = 0 # Returns as the result 0 to satisfy the condition\n",
    "        pass    \n",
    "    k = bin(n)[2:] # k -> converting the exponent 'n' into binary form using 'bin' without the '0b'\n",
    "    power = b % m # power -> base to the power of 2\n",
    "    for i in range(len(k) -1, -1, -1): # Iterates through the binary form of the exponent in reverse order\n",
    "        if k[i] == '1': # Checks if the current digit is 1\n",
    "            result = (result * power) % m # Computes the result\n",
    "        power = (power * power) % m # Computes the power\n",
    "    return result # result = b^n mod m"
   ]
  },
  {
   "cell_type": "code",
   "execution_count": 9,
   "metadata": {},
   "outputs": [
    {
     "name": "stdout",
     "output_type": "stream",
     "text": [
      "0\n",
      "1\n",
      "207\n",
      "160\n",
      "1\n",
      "36\n",
      "1\n"
     ]
    }
   ],
   "source": [
    "print(mod_exp(-89, 1070, 625))\n",
    "print(mod_exp(9, 6, 2))\n",
    "print(mod_exp(89, 1149, 538))\n",
    "print(mod_exp(98, 757, 596))\n",
    "print(mod_exp(39, 1148, 281))\n",
    "print(mod_exp(3, 644, 645))\n",
    "print(mod_exp(11, 644, 645))"
   ]
  }
 ],
 "metadata": {
  "kernelspec": {
   "display_name": "Python 3 (ipykernel)",
   "language": "python",
   "name": "python3"
  },
  "language_info": {
   "codemirror_mode": {
    "name": "ipython",
    "version": 3
   },
   "file_extension": ".py",
   "mimetype": "text/x-python",
   "name": "python",
   "nbconvert_exporter": "python",
   "pygments_lexer": "ipython3",
   "version": "3.11.1"
  },
  "vscode": {
   "interpreter": {
    "hash": "ebfc0a8d552866b0d59eba665220a57de3bc06f3ac643b8bef38dd8f66781fdd"
   }
  }
 },
 "nbformat": 4,
 "nbformat_minor": 2
}
