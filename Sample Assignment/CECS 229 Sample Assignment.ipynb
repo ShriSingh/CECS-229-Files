{
 "cells": [
  {
   "cell_type": "markdown",
   "id": "5f983616",
   "metadata": {},
   "source": [
    "# CECS 229 Sample Assignment: Python Review\n",
    "\n",
    "#### Due Date: \n",
    "\n",
    "January 22nd, 2023\n",
    "\n",
    "#### Objectives:\n",
    "\n",
    "1. Review Python functions and classes.\n",
    "2. Know how to convert an .ipynb file to .py\n",
    "3. Understand how to submit work to and read feedback given by, CodePost.\n",
    "\n",
    "### Directions \n",
    "\n",
    "Complete the programming problems below.  When you are finished, convert your notebook to a .py file named `sample.py` and submit it to the appropriate CodePost auto-grader folder.  Please note that this assignment is for practice only and does not affect your grade.\n",
    "\n",
    "Review on functions and classes are provided at the end of this notebook for your reference."
   ]
  },
  {
   "cell_type": "markdown",
   "id": "b4816bad",
   "metadata": {},
   "source": [
    "-----------------------------------\n",
    "#### Problem 1:\n",
    "\n",
    "Create a function `hello(subject)` that returns the string “Hello, (insert subject here)!” using the input subject.\n",
    "\n",
    "INPUT: `subject` - a string representing the subject to include in the greeting\n",
    "\n",
    "OUTPUT: the greeting as a string"
   ]
  },
  {
   "cell_type": "code",
   "execution_count": 17,
   "id": "aa9e4b02",
   "metadata": {},
   "outputs": [],
   "source": [
    "def hello(subject):\n",
    "    # Solution\n",
    "    print(f\"Hello, {subject}!\") \n",
    "    return \n",
    "    # or return f\"Hello, {subject}!\""
   ]
  },
  {
   "cell_type": "code",
   "execution_count": 18,
   "id": "617445a6",
   "metadata": {},
   "outputs": [
    {
     "name": "stdout",
     "output_type": "stream",
     "text": [
      "Hello, World!\n"
     ]
    }
   ],
   "source": [
    "hello(\"World\")"
   ]
  },
  {
   "cell_type": "markdown",
   "id": "23a0be4b",
   "metadata": {},
   "source": [
    "----------------------------------------------------------------------------\n",
    "#### Problem 2\n",
    "\n",
    "Create a class named `Bug` with the following attributes and interface implementation:\n",
    "\n",
    "* **Attributes:**\n",
    "    - `name` – a string representing the name of this `Bug` object.\n",
    "    - `position` – a list with two elements, representing the location of the Bug object on the xy-plane.  The first element represents the x-coordinate, while the second element represents the y-coordinate.\n",
    "* **Interface:**\n",
    "    - `__init__(self, name, position = [0, 0])`: constructor that initializes a Bug object with given name and position.  If the position is not given, then the Bug’s position is initialized at the origin.\n",
    "    - `move_up(self, units)`: moves the position of this Bug object up by given number of units (int).\n",
    "    - `move_down(self, units)`: moves the position of this Bug object down by given number of units (int).\n",
    "    - `move_left(self, units)`: moves the position of this Bug object left by given number of units (int).\n",
    "    - `move_right(self, units)`: moves the position of this Bug object right by given number of units (int).\n",
    "    - `__str__(self)`: returns a string representation of this Bug object containing the name and position.  The string should be formatted as follows:\n",
    "                Name: <insert name here>\n",
    "                Position: (<insert x>, <insert y>)\n"
   ]
  },
  {
   "cell_type": "code",
   "execution_count": 21,
   "id": "4b9869c1",
   "metadata": {},
   "outputs": [],
   "source": [
    "# Main Program\n",
    "class Bug():\n",
    "    # Constructing the Attributes\n",
    "    def __init__(self, name, position = [0,0]):\n",
    "        self.name = name\n",
    "        self.position = position\n",
    "\n",
    "    # Constructing the Interface\n",
    "    def move_up(self, units):\n",
    "        self.position[1] += units\n",
    "\n",
    "    def move_down(self, units):\n",
    "        self.position[1] -= units\n",
    "\n",
    "    def move_right(self, units):\n",
    "        self.position[0] += units\n",
    "\n",
    "    def move_left(self, units):\n",
    "        self.position[0] -= units\n",
    "\n",
    "    def __str__(self):\n",
    "        return f\"Name: {self.name}\\nCurrent Position: ({self.position[1]}, {self.position[0]})\""
   ]
  },
  {
   "cell_type": "code",
   "execution_count": 22,
   "id": "f1ed82be",
   "metadata": {},
   "outputs": [
    {
     "name": "stdout",
     "output_type": "stream",
     "text": [
      "Name: Lady Bug\n",
      "Current Position: (-2, 2)\n"
     ]
    }
   ],
   "source": [
    "# Making an Object\n",
    "Bug_1 = Bug(\"Lady Bug\")\n",
    "\n",
    "# Moving the bug up by 2 units\n",
    "Bug_1.move_up(2)\n",
    "# Moving the bug right by 3 units\n",
    "Bug_1.move_right(3)\n",
    "# Moving the bug down by 4 units\n",
    "Bug_1.move_down(4)\n",
    "# Moving the bug left by 1 unit\n",
    "Bug_1.move_left(1)\n",
    "\n",
    "# Printing the name and the final position of the bug\n",
    "print(Bug_1)"
   ]
  },
  {
   "cell_type": "markdown",
   "id": "7236c79f",
   "metadata": {},
   "source": [
    "-----------------------------------\n",
    "## Review on Functions\n",
    "\n",
    "In programming, a ***function*** is a named block of reusable code.  Functions increase the readability of a program by eliminating the need for duplicate lines of code.  Instead, a single function call replaces the duplicate lines.  Functions may or may not take arguments to execute its purpose.  Functions always return either a null value or an intended value.  Below are basic syntax outlines for writing functions in Python:\n",
    "\n",
    "**SYNTAX: Function without arguments nor intended return**\n",
    "\n",
    "`def func_name():\n",
    "    # body goes here\n",
    "    return \n",
    "`\n",
    "\n",
    "Note: If no intended return is specified, then the Python null value, `None` is returned.\n",
    "\n",
    "\n",
    "**SYNTAX: Function with arguments and intended return**\n",
    "\n",
    "`def func_name(arg1, arg2, ...):\n",
    "    # body goes here\n",
    "    return value   \n",
    "    `\n",
    "    \n",
    "**Examples:**"
   ]
  },
  {
   "cell_type": "code",
   "execution_count": 15,
   "id": "b35e41ee",
   "metadata": {},
   "outputs": [],
   "source": [
    "from random import randint\n",
    "\n",
    "def print_greeting():\n",
    "    \"\"\"This function prints a random greeting\"\"\"\n",
    "    greetings = [\"Hello!\", \"Hi!\", \"Hola!\", \"Hi there!\", \"What's cracking?!\", \"Sup.\", \":)\"]\n",
    "    print(greetings[randint(0, len(greetings)-1)])\n",
    "    return "
   ]
  },
  {
   "cell_type": "code",
   "execution_count": 16,
   "id": "90f1c1f8",
   "metadata": {},
   "outputs": [
    {
     "name": "stdout",
     "output_type": "stream",
     "text": [
      "Greeting #1: Hola!\n",
      "Greeting #2: What's cracking?!\n",
      "Greeting #3: Hello!\n",
      "Greeting #4: Hi!\n",
      "Greeting #5: Hola!\n",
      "Greeting #6: Hi!\n",
      "Greeting #7: Hola!\n",
      "Greeting #8: Sup.\n",
      "Greeting #9: :)\n",
      "Greeting #10: Hi there!\n"
     ]
    }
   ],
   "source": [
    "for i in range(10):\n",
    "    print(f\"Greeting #{i+1}: \", end = \"\")\n",
    "    print_greeting()"
   ]
  },
  {
   "cell_type": "code",
   "execution_count": 4,
   "id": "9280142e",
   "metadata": {},
   "outputs": [],
   "source": [
    "def square(n):\n",
    "    \"\"\"\n",
    "    This function returns the square of the given value.\n",
    "    A value error is raised if the given argument is not numeric\n",
    "    INPUT: n - numeric value\n",
    "    OUTPUT: the square of n\n",
    "    \"\"\"\n",
    "    if type(n) != float and type(n) != int:\n",
    "        raise ValueError(\"Argument must be of type 'float' or 'int'\")\n",
    "    return n * n"
   ]
  },
  {
   "cell_type": "code",
   "execution_count": 5,
   "id": "5965794d",
   "metadata": {},
   "outputs": [
    {
     "data": {
      "text/plain": [
       "9"
      ]
     },
     "execution_count": 5,
     "metadata": {},
     "output_type": "execute_result"
    }
   ],
   "source": [
    "square(3)"
   ]
  },
  {
   "cell_type": "code",
   "execution_count": 6,
   "id": "bb4d13a6",
   "metadata": {},
   "outputs": [
    {
     "data": {
      "text/plain": [
       "2.25"
      ]
     },
     "execution_count": 6,
     "metadata": {},
     "output_type": "execute_result"
    }
   ],
   "source": [
    "square(3/2)"
   ]
  },
  {
   "cell_type": "code",
   "execution_count": 7,
   "id": "5044c7f7",
   "metadata": {},
   "outputs": [
    {
     "data": {
      "text/plain": [
       "2.25"
      ]
     },
     "execution_count": 7,
     "metadata": {},
     "output_type": "execute_result"
    }
   ],
   "source": [
    "square(1.5)"
   ]
  },
  {
   "cell_type": "code",
   "execution_count": 8,
   "id": "b02f730a",
   "metadata": {},
   "outputs": [
    {
     "ename": "ValueError",
     "evalue": "Argument must be of type 'float' or 'int'",
     "output_type": "error",
     "traceback": [
      "\u001b[1;31m---------------------------------------------------------------------------\u001b[0m",
      "\u001b[1;31mValueError\u001b[0m                                Traceback (most recent call last)",
      "Cell \u001b[1;32mIn[8], line 1\u001b[0m\n\u001b[1;32m----> 1\u001b[0m square(\u001b[39m'\u001b[39;49m\u001b[39mhi\u001b[39;49m\u001b[39m'\u001b[39;49m)\n",
      "Cell \u001b[1;32mIn[4], line 9\u001b[0m, in \u001b[0;36msquare\u001b[1;34m(n)\u001b[0m\n\u001b[0;32m      2\u001b[0m \u001b[39m\u001b[39m\u001b[39m\"\"\"\u001b[39;00m\n\u001b[0;32m      3\u001b[0m \u001b[39mThis function returns the square of the given value.\u001b[39;00m\n\u001b[0;32m      4\u001b[0m \u001b[39mA value error is raised if the given argument is not numeric\u001b[39;00m\n\u001b[0;32m      5\u001b[0m \u001b[39mINPUT: n - numeric value\u001b[39;00m\n\u001b[0;32m      6\u001b[0m \u001b[39mOUTPUT: the square of n\u001b[39;00m\n\u001b[0;32m      7\u001b[0m \u001b[39m\"\"\"\u001b[39;00m\n\u001b[0;32m      8\u001b[0m \u001b[39mif\u001b[39;00m \u001b[39mtype\u001b[39m(n) \u001b[39m!=\u001b[39m \u001b[39mfloat\u001b[39m \u001b[39mand\u001b[39;00m \u001b[39mtype\u001b[39m(n) \u001b[39m!=\u001b[39m \u001b[39mint\u001b[39m:\n\u001b[1;32m----> 9\u001b[0m     \u001b[39mraise\u001b[39;00m \u001b[39mValueError\u001b[39;00m(\u001b[39m\"\u001b[39m\u001b[39mArgument must be of type \u001b[39m\u001b[39m'\u001b[39m\u001b[39mfloat\u001b[39m\u001b[39m'\u001b[39m\u001b[39m or \u001b[39m\u001b[39m'\u001b[39m\u001b[39mint\u001b[39m\u001b[39m'\u001b[39m\u001b[39m\"\u001b[39m)\n\u001b[0;32m     10\u001b[0m \u001b[39mreturn\u001b[39;00m n \u001b[39m*\u001b[39m n\n",
      "\u001b[1;31mValueError\u001b[0m: Argument must be of type 'float' or 'int'"
     ]
    }
   ],
   "source": [
    "square('hi')"
   ]
  },
  {
   "cell_type": "code",
   "execution_count": null,
   "id": "4a127b8a",
   "metadata": {},
   "outputs": [],
   "source": [
    "'''\n",
    "The following function contains an error.  Python uses assignment statements to bind variable names to values.\n",
    "If the values are manipulated, a new object is created in memory storing the result of the manipulataion and \n",
    "the variable name is rebound to this new object. i.e., the original value is not replaced.\n",
    "\n",
    "Can you identify where the error is happening?\n",
    "'''\n",
    "\n",
    "def double_arr(arr):\n",
    "    \"\"\"\n",
    "    this function doubles the values in the given array\n",
    "    INPUT: arr - a list of numeric values.\n",
    "    OUTPUT: None\n",
    "    \"\"\"\n",
    "    for ele in arr:\n",
    "        ele *= 2    \n",
    "    return "
   ]
  },
  {
   "cell_type": "code",
   "execution_count": null,
   "id": "dbc58d1e",
   "metadata": {},
   "outputs": [],
   "source": [
    "values = [1, 2, 3, 4, 5]\n",
    "double_arr(values)\n",
    "print(values)"
   ]
  },
  {
   "cell_type": "code",
   "execution_count": null,
   "id": "5a18bdd9",
   "metadata": {},
   "outputs": [],
   "source": [
    "'''This is a corrected version of the function defined above'''\n",
    "\n",
    "def double_arr(arr):\n",
    "    \"\"\"\n",
    "    this function doubles the values in the given array\n",
    "    INPUT: arr - a list of numeric values.\n",
    "    OUTPUT: None\n",
    "    \"\"\"\n",
    "    for i in range(len(arr)):\n",
    "        arr[i] *= 2    \n",
    "    return "
   ]
  },
  {
   "cell_type": "code",
   "execution_count": null,
   "id": "80a62eb9",
   "metadata": {},
   "outputs": [],
   "source": [
    "values = [1, 2, 3, 4, 5]\n",
    "double_arr(values)\n",
    "print(values)"
   ]
  },
  {
   "cell_type": "markdown",
   "id": "d3eae388",
   "metadata": {},
   "source": [
    "----\n",
    "\n",
    "## Review on Classes\n",
    "\n",
    "In programming, a ***class*** is a blueprint for an object.  A class defines what attributes and behaviors an object will support.  Classes are used when a program needs several objects that behave the same but might hold different data.  \n",
    "\n",
    "For example, a software program that keeps track of student enrollment needs to model a single `Student` object with attributes name, ID, and courses with corresponding grades.  It also needs to define behaviors for\n",
    "\n",
    "1. adding a course to the student record,\n",
    "2. recording letter grades for the courses the student is enrolled in,\n",
    "3. calculating the student's GPA,\n",
    "4. printing the student's record.\n",
    "\n",
    "Once this blueprint is defined, it can keep a log of several `Student` instances, i.e. objects, and manipulate them to perform the desired tasks.\n",
    "\n",
    "The behaviors of an object are defined using a special function called a **method**.  The main difference between a function and a method is that a method can only be called on an object of the class that defines it.  For example, if `student1` is a `Student` object and `get_gpa()` is a method that the class defines, then the syntax for calling `get_gpa()` on `student1` is `student1.get_gpa()`. In Python, all methods defined by a class must include a special argument called `self`.  `self` is a keyword that is used to reference that the current object.\n",
    "\n",
    "\n",
    "**SYNTAX | Class Method**\n",
    "\n",
    "`class ClassName:\n",
    "    ... \n",
    "    def method1(self, other parameters):\n",
    "        #body goes here\n",
    "        return\n",
    "`\n",
    "\n",
    "The **attributes** of an object are the data associated to the object.  A class defines what data an object of the class will have in a special method called a constructor.  In Python, the syntax for defining a constructor and default data is as follows:\n",
    "\n",
    "**SYNTAX | Class Attributes**\n",
    "\n",
    "`def ClassName:\n",
    "    def __init(self, arg1, arg2, ...):\n",
    "        self.attribute1 = arg1\n",
    "        self.attribute2 = arg2\n",
    "        ...\n",
    "        return\n",
    "`\n",
    "\n",
    "We can define how built-in functions and operations act on objects of our defined classes by implementing special methods.  One example of such a method is `__str__`.  The `__str__` method returns the string representation of an object, that is, it defines what string to return should the built-in function `str()` be called on an instance of the class.  Other special methods that can be implemented are:\n",
    "\n",
    "* `__len__` - defines what integer to return if the function `len()` is called on an instance of the class.\n",
    "* `__bool__` - defines what Boolean value to return if the `bool()` function is called on an instance of the class.\n",
    "* `__lt__` - defines what the operator `<` should return if it is used to compare two instances of the class. \n",
    "* `__gt__` - defines what the operator `>` should return if it is used to compare two instances of the class.  \n",
    "* `__eq__` - defines what the operator `==` should return if it is used to compare two instances of the class. \n",
    "* `__lt__` - defines what the operator `<` should return if it is used to compare two instances of the class. \n",
    "\n",
    "When we implement special methods of this type in our classes, we say we are *overloading* the relevant functions/operators.  You can find more information on overloading built-in operators and functions [here](https://realpython.com/operator-function-overloading/).\n",
    "\n",
    "To summarize, a class defines the attributes (data) and the behaviors (actions on data) allowed for a certain type of object.  It can also overload built-in operators and functions so that they work on instances of the class."
   ]
  },
  {
   "cell_type": "code",
   "execution_count": 4,
   "id": "5316a8c7",
   "metadata": {},
   "outputs": [],
   "source": [
    "class Student:\n",
    "    \n",
    "    valid_grades = {'A' : 4.0, 'B' : 3.0, 'C' : 2.0, 'D' : 1.0, 'F': 0.0, 'W' : 'na', 'IP' : 'na', 'P' : 'na', 'NP' : 'na'}\n",
    "    \n",
    "    def __init__(self, name, uid):\n",
    "        self.name = name\n",
    "        self.uid = uid\n",
    "        self.courses = {}\n",
    "        \n",
    "    def enroll(self, course, term):\n",
    "        self.courses[course] = [term, 'IP']\n",
    "        return \n",
    "    \n",
    "    def record_grade(self, course, grade):\n",
    "        if grade not in Student.valid_grades:\n",
    "            raise ValueError(\"Invalid letter grade given.\")\n",
    "        if course not in self.courses:\n",
    "            raise ValueError(\"Course not in student's record.\")  \n",
    "        self.courses[course][1] = grade\n",
    "        return\n",
    "    \n",
    "    def get_gpa(self):\n",
    "        grd_pts = 0\n",
    "        num_courses = 0\n",
    "        for course, details in self.courses.items():\n",
    "            \n",
    "            letter_grade = details[1]\n",
    "            pts = Student.valid_grades[letter_grade]\n",
    "            if type(pts) == float:\n",
    "                grd_pts += pts\n",
    "                num_courses += 1\n",
    "        return grd_pts/num_courses\n",
    "    \n",
    "    def print_record(self):\n",
    "        print(\"-\"*40 + f\"\\nName: {self.name}\\nID: {self.uid}\\n\")\n",
    "        for course, details in self.courses.items():\n",
    "            print(\"\\tCourse: %-20sTerm: %-20sGrade: %s\" % (course, details[0], details[1]))\n",
    "        print(\"\\nGPA: %.2f\" % self.get_gpa())\n",
    "        return\n",
    "    \n",
    "    def __str__(self):\n",
    "        return f\"Name: {self.name}\\nUID: {self.uid}\""
   ]
  },
  {
   "cell_type": "code",
   "execution_count": 5,
   "id": "07d791c8",
   "metadata": {},
   "outputs": [
    {
     "name": "stdout",
     "output_type": "stream",
     "text": [
      "----------------------------------------\n",
      "Name: Jane Doe\n",
      "ID: 000-000-001\n",
      "\n",
      "\tCourse: CECS 274 SEC 01     Term: Spring 2022         Grade: A\n",
      "\tCourse: CECS 174 SEC 02     Term: Fall 2022           Grade: A\n",
      "\tCourse: MATH 247 SEC 01     Term: Fall 2022           Grade: B\n",
      "\tCourse: CECS 229 SEC 02     Term: Spring 2023         Grade: IP\n",
      "\n",
      "GPA: 3.67\n",
      "----------------------------------------\n",
      "Name: Joe Doe\n",
      "ID: 000-00-002\n",
      "\n",
      "\tCourse: CECS 174 SEC 01     Term: Spring 2022         Grade: A\n",
      "\tCourse: CECS 274 SEC 02     Term: Fall 2022           Grade: B\n",
      "\tCourse: MATH 247 SEC 01     Term: Fall 2022           Grade: C\n",
      "\n",
      "GPA: 3.00\n",
      "----------------------------------------\n",
      "Name: Jane Doe\n",
      "UID: 000-000-001\n",
      "----------------------------------------\n",
      "Name: Joe Doe\n",
      "UID: 000-00-002\n"
     ]
    }
   ],
   "source": [
    "jane = Student(\"Jane Doe\", \"000-000-001\")\n",
    "\n",
    "jane.enroll(\"CECS 274 SEC 01\", \"Spring 2022\")\n",
    "jane.enroll(\"CECS 174 SEC 02\", \"Fall 2022\")\n",
    "jane.enroll(\"MATH 247 SEC 01\", \"Fall 2022\")\n",
    "jane.enroll(\"CECS 229 SEC 02\", \"Spring 2023\")\n",
    "\n",
    "jane.record_grade(\"CECS 274 SEC 01\", \"A\")\n",
    "jane.record_grade(\"CECS 174 SEC 02\", \"A\")\n",
    "jane.record_grade(\"MATH 247 SEC 01\", \"B\")\n",
    "\n",
    "\n",
    "joe = Student(\"Joe Doe\", \"000-00-002\")\n",
    "joe.enroll(\"CECS 174 SEC 01\", \"Spring 2022\")\n",
    "joe.enroll(\"CECS 274 SEC 02\", \"Fall 2022\")\n",
    "joe.enroll(\"MATH 247 SEC 01\", \"Fall 2022\")\n",
    "\n",
    "joe.record_grade(\"CECS 174 SEC 01\", \"A\")\n",
    "joe.record_grade(\"CECS 274 SEC 02\", \"B\")\n",
    "joe.record_grade(\"MATH 247 SEC 01\", \"C\")\n",
    "\n",
    "\n",
    "jane.print_record()\n",
    "joe.print_record()\n",
    "\n",
    "print('-'*40)\n",
    "print(jane)\n",
    "print('-'*40)\n",
    "print(joe)"
   ]
  }
 ],
 "metadata": {
  "kernelspec": {
   "display_name": "condaenv",
   "language": "python",
   "name": "python3"
  },
  "language_info": {
   "codemirror_mode": {
    "name": "ipython",
    "version": 3
   },
   "file_extension": ".py",
   "mimetype": "text/x-python",
   "name": "python",
   "nbconvert_exporter": "python",
   "pygments_lexer": "ipython3",
   "version": "3.10.9"
  },
  "vscode": {
   "interpreter": {
    "hash": "e8288ea75dbcaa759098167421ee29791bcab46f5af3fab58cdf34aa7c03d7b1"
   }
  }
 },
 "nbformat": 4,
 "nbformat_minor": 5
}
